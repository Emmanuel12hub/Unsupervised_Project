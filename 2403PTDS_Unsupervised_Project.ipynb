{
 "cells": [
  {
   "cell_type": "markdown",
   "metadata": {},
   "source": [
    "# Group Project\n",
    "\n",
    "### Project Title: 2403PTDS_Unsupervised_Project\n",
    "Analysing News Articles Dataset\n",
    "#### Done By: Classification Project Team (K Ebrahim, J Sithole, J Maleka, S Tlhale, N Mhlophe & M Majola)\n",
    "\n",
    "© ExploreAI 2024\n",
    "\n",
    "---\n",
    "\n",
    "## Table of Contents\n",
    "\n",
    "<a href=#BC> Project Overview</a>\n",
    "\n",
    "<a href=#one>1. Dataset</a>\n",
    "\n",
    "<a href=#two>2. Packages</a>\n",
    "\n",
    "<a href=#five>5. Exploratory Data Analysis (EDA)</a>\n",
    "\n",
    "<a href=#six>6. Model Building and Evaluation</a>\n",
    "\n",
    "<a href=#seven>7. Streamlit </a>\n",
    "\n",
    "<a href=#eight>8. Conclusion and Future Work</a>\n",
    "\n",
    "<a href=#nine>9. Team Members</a>"
   ]
  },
  {
   "cell_type": "markdown",
   "metadata": {},
   "source": [
    "---\n",
    " <a id=\"BC\"></a>\n",
    "## **Background Context**\n",
    "<a href=#cont>Back to Table of Contents</a>\n",
    "\n",
    "* **Project Overview:**\n",
    "\n",
    "  This project focuses on building a hybrid anime recommendation system by combining collaborative and content-based filtering techniques.\n",
    "  Leveraging     an anime dataset from myanimelist.net, the system will predict user preferences and recommend relevant anime titles.  A key aspect of    this project,     as it's framed as unsupervised, will involve exploring unsupervised learning techniques for aspects like user or item clustering,\n",
    "  which can enhance     the recommendation process.  This mimics how platforms like Netflix and others provide tailored recommendations.\n",
    "\n",
    "* **Purpose:** \n",
    "    * Personalized Recommendations: To provide users with personalized anime recommendations based on their viewing history and preferences.\n",
    "    * Content Discovery: To facilitate the discovery of new and relevant anime titles that users might not otherwise find.\n",
    "    * Improved User Experience: To enhance the user experience on anime platforms by streamlining the content selection process.\n",
    "    * Unsupervised Learning Exploration: To investigate the application of unsupervised learning methods (e.g., clustering, dimensionality reduction)\n",
    "      for improving recommendation system performance.\n",
    "    * Data Analysis: To analyze user behavior and preferences related to anime consumption, potentially revealing insights through unsupervised methods.\n",
    "\n",
    "\n",
    "* **Details:**\n",
    "\n",
    "  * Dataset: The project will use a dataset from myanimelist.net containing user ratings for a large collection of anime titles. Data preprocessing and     feature engineering will be crucial, especially considering the potential for unsupervised learning.\n",
    "    \n",
    "  * Collaborative Filtering: This approach will identify users with similar viewing habits. Unsupervised learning can be used here, for instance, to\n",
    "    cluster users based on their rating patterns before applying collaborative filtering.\n",
    "      \n",
    "  * Content-Based Filtering: This approach will analyze anime characteristics (genre, themes, studio, synopsis). Unsupervised learning can be applied       to extract relevant features or group similar anime titles.\n",
    " \n",
    "    \n",
    "  * Hybrid Approach: The project will combine collaborative and content-based filtering, possibly using unsupervised learning results to inform the\n",
    "    hybrid strategy.\n",
    " \n",
    "    \n",
    "   * Unsupervised Learning Component: This is the core of the \"unsupervised\" aspect. Techniques like K-Means clustering for user segmentation, or\n",
    "    PCA/t-  SNE for dimensionality reduction of anime features, will be explored.\n",
    " \n",
    "     \n",
    "   * Evaluation Metrics: Performance will be evaluated using metrics like precision, recall, F1-score, RMSE, and potentially metrics specific to\n",
    "     evaluating the quality of clusters or reduced dimensions.\n",
    " \n",
    "     \n",
    "   * Technology Stack: Python with libraries like Pandas, NumPy, Scikit-learn, Surprise, and potentially others for visualization or specific\n",
    "      unsupervised learning algorithms.\n",
    "\n",
    "    **1. Objective:**\n",
    "\n",
    "    * Data Preprocessing & Feature Engineering: Clean the data, handle missing values, and engineer features suitable for both supervised and\n",
    "     unsupervised learning.\n",
    "\n",
    "    * Unsupervised Learning Implementation: Apply unsupervised learning techniques (clustering, dimensionality reduction) to user ratings and/or anime        features.\n",
    " \n",
    "    * Model Development: Implement collaborative, content-based, and hybrid recommendation models, integrating results from unsupervised learning.\n",
    " \n",
    "    * Performance Evaluation: Evaluate the performance of the models, focusing on the impact of the unsupervised learning component.\n",
    " \n",
    "    * Optimization: Fine-tune models and unsupervised learning parameters to maximize recommendation accuracy.\n",
    " \n",
    "    * Recommendation Generation: Develop a system to generate personalized recommendations.\n",
    " \n",
    "    * Documentation & Reporting: Document the project thoroughly, including the rationale behind unsupervised learning choices, implementation details,       evaluation results, and insights.\n",
    "\n",
    "    **2. Deliverables:**\n",
    "\n",
    "    * Preprocessed Dataset: Cleaned and prepared dataset, including any features created specifically for unsupervised learning.\n",
    "    * Unsupervised Learning Models: Code implementing the chosen unsupervised learning techniques (e.g., clustering, dimensionality reduction).\n",
    "    * Recommendation Models: Code implementing the collaborative, content-based, and hybrid recommendation models.\n",
    "    * Evaluation Report: A report detailing the evaluation metrics and a comparative analysis of the different approaches, emphasizing the contribution       of unsupervised learning.\n",
    "    * Recommendation System: A working system (script, API, or simple application) to generate recommendations.\n",
    "    * Code Repository: A well-organized and documented repository containing all code, data, and reports.\n",
    "\n",
    "\n",
    "    **3. Expected Outcomes:**\n",
    "\n",
    "    * Functional Recommendation System: A working anime recommendation system that provides personalized recommendations.\n",
    "    * Demonstrated Use of Unsupervised Learning: A clear demonstration of how unsupervised learning techniques can be applied to enhance a\n",
    "      recommendation system.\n",
    "    * Performance Analysis: A thorough analysis of the impact of unsupervised learning on recommendation performance.\n",
    "    * Insights: Potential insights gained from the data through unsupervised learning, such as user segments or anime feature relationships.\n",
    "    * Documented Project: A well-documented and reproducible project."
   ]
  },
  {
   "cell_type": "markdown",
   "metadata": {},
   "source": [
    "---\n",
    "<a href=#two></a>\n",
    "## **Data Collection and Description**\n",
    "<a href=#cont>Back to Table of Contents</a>\n",
    "\n",
    "The dataset is comprised of \n",
    "\n",
    "**Dataset Features:**\n",
    "\n",
    "**Description**    \n",
    "\n",
    "**Content**       \n",
    "\n",
    "\n"
   ]
  },
  {
   "cell_type": "markdown",
   "metadata": {},
   "source": [
    "* **Installing and Importing Packages**"
   ]
  },
  {
   "cell_type": "code",
   "execution_count": 14,
   "metadata": {},
   "outputs": [],
   "source": [
    "# Uncomment the next line to install required packages\n",
    "#!pip install pandas matplotlib seaborn numpy scikit-learn nltk collections2 wordcloud textblob joblib mlflow ipython\n",
    "#!pip install scikit-surprise\n",
    "\n",
    "import pandas as pd    # For data manipulation and analysis.\n",
    "import matplotlib.pyplot as plt # For creating static, interactive, and animated visualizations\n",
    "import seaborn as sns  # Built on top of Matplotlib, Seaborn simplifies the creation of attractive and informative statistical graphics.\n",
    "import numpy as np  # For numerical computations.\n",
    "import re  # For regular expressions, used in text data preprocessing to search, match, and manipulate strings.\n",
    "import string # Provides constants like string.punctuation and utility functions for working with strings.\n",
    "from scipy.sparse import csr_matrix\n",
    "from sklearn.feature_extraction.text import TfidfVectorizer # Converts text data into numerical feature vectors using the Term Frequency-Inverse Document Frequency (TF-IDF) technique.\n",
    "from surprise.model_selection import train_test_split # Splits the dataset into training and testing subsets.\n",
    "from sklearn.linear_model import LogisticRegression # Implements Logistic Regression, a commonly used supervised learning algorithm for classification tasks.\n",
    "from sklearn.naive_bayes import MultinomialNB # Implements the Multinomial Naive Bayes algorithm, often used for text classification.\n",
    "from sklearn.svm import SVC # Implements Support Vector Classifier (SVC), a powerful supervised learning model for classification.\n",
    "from sklearn.metrics import accuracy_score, precision_score, recall_score, f1_score, confusion_matrix, mean_squared_error # Provides functions to evaluate the performance of machine learning models\n",
    "from sklearn.model_selection import cross_val_score # Computes cross-validated scores for assessing model performance.\n",
    "import joblib # Used for saving and loading machine learning models or large datasets efficiently.\n",
    "from nltk.corpus import stopwords\n",
    "from nltk.tokenize import word_tokenize\n",
    "from nltk.stem import WordNetLemmatizer\n",
    "from collections import Counter\n",
    "from wordcloud import WordCloud\n",
    "from textblob import TextBlob\n",
    "import joblib\n",
    "import mlflow\n",
    "import mlflow.pyfunc\n",
    "from IPython.display import display\n",
    "import warnings\n",
    "\n",
    "# Model for training and cross validation\n",
    "import surprise\n",
    "from surprise import Dataset, Reader, SVD, accuracy\n",
    "from surprise.model_selection import GridSearchCV\n",
    "from sklearn.metrics.pairwise import cosine_similarity\n",
    "\n",
    "# Hide all future warnings\n",
    "warnings.simplefilter(action='ignore', category=FutureWarning)"
   ]
  },
  {
   "cell_type": "markdown",
   "metadata": {},
   "source": [
    "---\n",
    "<a href=#three></a>\n",
    "## **Loading Data**\n",
    "<a href=#cont>Back to Table of Contents</a>\n",
    "\n",
    "* **Purpose:** Load the data into the notebook for manipulation and analysis.\n",
    "* **Details:** Show the code used to load the data and display the first few rows to give a sense of what the raw data looks like.\n",
    "---"
   ]
  },
  {
   "cell_type": "code",
   "execution_count": 33,
   "metadata": {},
   "outputs": [
    {
     "name": "stdout",
     "output_type": "stream",
     "text": [
      "         user_id  anime_id  rating\n",
      "2204109    27973      9989       8\n",
      "3886889    50603      6007       7\n",
      "2142310    27254      2109       7\n",
      "4131794    53284        72       9\n",
      "1310502    17373      8074       6\n",
      "   user_id  anime_id\n",
      "0    40763     21405\n",
      "1    68791     10504\n",
      "2    40487      1281\n",
      "3    55290       165\n",
      "4    72323     11111\n"
     ]
    }
   ],
   "source": [
    "# Load the datasets\n",
    "df_train = pd.read_csv('train.zip').sample(n=1150000, random_state=42) # Limiting rows to reduce training times\n",
    "df = pd.read_csv('anime.csv')\n",
    "df_test = pd.read_csv('test.csv')\n",
    "df_submit = pd.read_csv('submission.csv')\n",
    "\n",
    "# Display the first few rows of the train dataset\n",
    "print(df_train.head())\n",
    "\n",
    "# Display the first few rows of the test dataset\n",
    "print(df_test.head())"
   ]
  },
  {
   "cell_type": "markdown",
   "metadata": {},
   "source": [
    "---\n",
    "<a href=#five></a>\n",
    "## **Exploratory Data Analysis (EDA)**\n",
    "<a href=#cont>Back to Table of Contents</a>\n",
    "\n",
    "* **Purpose:** Explore and visualize the data to uncover patterns, trends, and relationships.\n",
    "* **Details:** Use statistics and visualizations to explore the data. This may include histograms, box plots, scatter plots, and correlation matrices. Discuss any significant findings.\n",
    "---\n"
   ]
  },
  {
   "cell_type": "code",
   "execution_count": 4,
   "metadata": {},
   "outputs": [
    {
     "data": {
      "text/plain": [
       "1000000"
      ]
     },
     "execution_count": 4,
     "metadata": {},
     "output_type": "execute_result"
    }
   ],
   "source": [
    "# Checking number of anime titles\n",
    "df_train.shape[0]"
   ]
  },
  {
   "cell_type": "code",
   "execution_count": 34,
   "metadata": {},
   "outputs": [
    {
     "name": "stdout",
     "output_type": "stream",
     "text": [
      "Average rating in dataset: 7.808244347826087\n"
     ]
    },
    {
     "data": {
      "image/png": "[encoded data removed]",
      "text/plain": [
       "<Figure size 511.111x500 with 1 Axes>"
      ]
     },
     "metadata": {},
     "output_type": "display_data"
    }
   ],
   "source": [
    "# Plotting the distribution of ratings\n",
    "with sns.axes_style('white'):\n",
    "    g = sns.catplot(data=df_train, x='rating', kind='count')\n",
    "    g.set_ylabels('Total number of Anime titles')\n",
    "    g.ax.yaxis.set_major_formatter('{x:,.0f}')\n",
    "print(f\"Average rating in dataset: {np.mean(df_train['rating'])}\")"
   ]
  },
  {
   "cell_type": "markdown",
   "metadata": {},
   "source": [
    "- The bar plot shows a mostly positive distribution of ratings with an average rating of 7.8, ratings are also between 1-10."
   ]
  },
  {
   "cell_type": "markdown",
   "metadata": {},
   "source": [
    "---\n",
    "<a href=#nine></a>\n",
    "## **Model Building and Evaluation**\n",
    "<a href=#cont>Back to Table of Contents</a>\n",
    "\n",
    "* **Purpose:** Summarize the findings and discuss future directions.\n",
    "* **Details:** Conclude with a summary of the results, insights gained, limitations of the study, and suggestions for future projects or improvements in methodology or data collection.\n",
    "---\n"
   ]
  },
  {
   "cell_type": "markdown",
   "metadata": {},
   "source": [
    "# \n",
    "**1. Text Preprocessing:**\n",
    "\n",
    "* Replace the __Content__ column with the __Cleaned_Content__ column in the train_df.\n",
    "* Drop the __Category__ column in the test_df"
   ]
  },
  {
   "cell_type": "code",
   "execution_count": null,
   "metadata": {},
   "outputs": [
    {
     "name": "stdout",
     "output_type": "stream",
     "text": [
      "{'n_factors': 60, 'n_epochs': 100, 'lr_all': 0.01, 'reg_all': 0.2}\n",
      "1.2371762872159309\n",
      "RMSE: 0.9635\n",
      "Best SVD RMSE: 0.9634813610490489\n"
     ]
    }
   ],
   "source": [
    "# Scaling the data\n",
    "reader = Reader(rating_scale=(1, 10))\n",
    "data = surprise.Dataset.load_from_df(df_train[['user_id', 'anime_id', 'rating']], reader)\n",
    "\n",
    "# Define parameter grids, changed to best params after initial run\n",
    "param_grid_svd = {\n",
    "    'n_factors': [60],\n",
    "    'n_epochs': [100],\n",
    "    'lr_all': [0.01],\n",
    "    'reg_all': [0.2]\n",
    "}\n",
    "\n",
    "# Initializing the model and setting the hyperparameters on cross-validation\n",
    "gs_svd = GridSearchCV(SVD, param_grid_svd, measures=['rmse'], cv=3, refit=True, n_jobs=-1)\n",
    "gs_svd.fit(data)\n",
    "\n",
    "# Best parameters and RMSE\n",
    "print(gs_svd.best_params['rmse'])\n",
    "print(gs_svd.best_score['rmse'])\n",
    "\n",
    "# Best estimator to train the model\n",
    "best_svd = gs_svd.best_estimator['rmse']\n",
    "trainset = data.build_full_trainset()\n",
    "best_svd.fit(trainset)\n",
    "\n",
    "# Evaluating the best SVD model\n",
    "testset = trainset.build_testset()\n",
    "svd_preds = best_svd.test(testset)\n",
    "svd_rmse = accuracy.rmse(svd_preds)\n",
    "print(f\"Best SVD RMSE: {svd_rmse}\")"
   ]
  },
  {
   "cell_type": "markdown",
   "metadata": {},
   "source": [
    "- An RMSE of ~1.23 on training and a best RMSE of 0.96 on the test set is not bad.\n",
    "- Let's take a hybrid approach and pair this with a content-based filter using the cosine_similarity measure."
   ]
  },
  {
   "cell_type": "code",
   "execution_count": 46,
   "metadata": {},
   "outputs": [
    {
     "name": "stdout",
     "output_type": "stream",
     "text": [
      "RMSE: 0.9625\n"
     ]
    }
   ],
   "source": [
    "# Get item features from `anime.csv`, convert all features to string expected by tfidfvect\n",
    "item_features = df[['genre', 'type', 'episodes']].astype(str).agg(' '.join, axis=1)\n",
    "\n",
    "# Content based filter\n",
    "tfidf = TfidfVectorizer(stop_words='english')\n",
    "tfidf_matrix = tfidf.fit_transform(item_features)\n",
    "cosine_sim = cosine_similarity(tfidf_matrix, tfidf_matrix)\n",
    "\n",
    "# Collaborative filter\n",
    "reader = Reader(rating_scale=(1, 10))\n",
    "data = surprise.Dataset.load_from_df(df_train[['user_id', 'anime_id', 'rating']], reader)\n",
    "trainset, testset = train_test_split(data, test_size=0.2, random_state=42)\n",
    "\n",
    "# fit and predict on test set\n",
    "gs_svd.fit(data)\n",
    "svd_preds = gs_svd.test(testset)\n",
    "\n",
    "# Calculate RMSE\n",
    "svd_rmse = accuracy.rmse(svd_preds)\n",
    "\n",
    "# Create hybrid recommendations function\n",
    "def hybrid_recs(user_id, num_of_recs=10):\n",
    "    # first content based\n",
    "    item_indices = range(len(item_features.index))\n",
    "    sim_scores = list(enumerate(cosine_sim[item_indices]))\n",
    "    sim_scores = sorted(sim_scores, key=lambda x: x[1].sum(), reverse=True)\n",
    "    cb_recs = [i[0] for i in sim_scores[:num_of_recs]]\n",
    "\n",
    "    # Collaborative filter\n",
    "    cf_recs = []\n",
    "    for item_id in df['anime_id'].unique():\n",
    "        cf_recs.append((item_id, gs_svd.predict(user_id, item_id).est))\n",
    "    cf_recs = sorted(cf_recs, key=lambda x: x[1], reverse=True)[:num_of_recs]\n",
    "\n",
    "    # Combine recommendations\n",
    "    combined_recs = set(cb_recs + [i[0] for i in cf_recs])\n",
    "    return combined_recs"
   ]
  },
  {
   "cell_type": "markdown",
   "metadata": {},
   "source": [
    "- A slightly improved RMSE score of 0.96, this can be improved by tuning hyperparameters for the vectorizer.\n",
    "- This also means that the rating would be off by ~0.96 when recommendations are made to users."
   ]
  },
  {
   "cell_type": "markdown",
   "metadata": {},
   "source": [
    "# Deploy the Model\n",
    "\n",
    "## a. Set Up the Environment\n",
    "Ensure that the deployment environment has the necessary dependencies and configurations. This includes:\n",
    "\n",
    "- Python environment (e.g., virtualenv or conda)\n",
    "- Required libraries (e.g., scikit-learn, joblib, pandas, numpy)\n",
    "\n",
    "You can create a `requirements.txt` file to list all the dependencies:"
   ]
  },
  {
   "cell_type": "code",
   "execution_count": null,
   "metadata": {},
   "outputs": [],
   "source": [
    "# Load the model and vectorizer.\n"
   ]
  },
  {
   "cell_type": "markdown",
   "metadata": {},
   "source": [
    "### MLFLOW"
   ]
  },
  {
   "cell_type": "markdown",
   "metadata": {},
   "source": [
    "---\n",
    "<a href=#nine></a>\n",
    "## **Conclusion and Future Work**\n",
    "<a href=#cont>Back to Table of Contents</a>\n",
    "\n",
    "* **Purpose:** Summarize the findings and discuss future directions.\n",
    "* **Details:** Conclude with a summary of the results, insights gained, limitations of the study, and suggestions for future projects or improvements in methodology or data collection.\n",
    "---"
   ]
  },
  {
   "cell_type": "code",
   "execution_count": null,
   "metadata": {},
   "outputs": [],
   "source": [
    "#Please use code cells to code in and do not forget to comment your code."
   ]
  },
  {
   "cell_type": "markdown",
   "metadata": {},
   "source": [
    "## Additional Sections to Consider\n",
    "\n",
    "* ### Appendix: \n",
    "For any additional code, detailed tables, or extended data visualizations that are supplementary to the main content.\n",
    "\n",
    "* ### Collaborators: \n",
    "  - Emmanuel Majola\n",
    "  - Selogile Tlhale\n",
    "  - Josia Sithole\n",
    "  - Kyle Ebrahim\n",
    "  - Jerry Maleka\n",
    "  - Nhlokomo Mhlophe\n"
   ]
  }
 ],
 "metadata": {
  "kernelspec": {
   "display_name": "base",
   "language": "python",
   "name": "python3"
  },
  "language_info": {
   "codemirror_mode": {
    "name": "ipython",
    "version": 3
   },
   "file_extension": ".py",
   "mimetype": "text/x-python",
   "name": "python",
   "nbconvert_exporter": "python",
   "pygments_lexer": "ipython3",
   "version": "3.11.5"
  }
 },
 "nbformat": 4,
 "nbformat_minor": 4
}
