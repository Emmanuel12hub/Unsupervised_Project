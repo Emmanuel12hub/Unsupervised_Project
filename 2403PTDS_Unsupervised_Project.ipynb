{
 "cells": [
  {
   "cell_type": "markdown",
   "metadata": {},
   "source": [
    "# Group Project\n",
    "\n",
    "### Project Title: 2403PTDS_Unsupervised_Project\n",
    "Analysing News Articles Dataset\n",
    "#### Done By: Classification Project Team (K Ebrahim, J Sithole, J Maleka, S Tlhale, N Mhlophe & M Majola)\n",
    "\n",
    "© ExploreAI 2024\n",
    "\n",
    "---\n",
    "\n",
    "## Table of Contents\n",
    "\n",
    "<a href=#BC> Project Overview</a>\n",
    "\n",
    "<a href=#one>1. Dataset</a>\n",
    "\n",
    "<a href=#two>2. Packages</a>\n",
    "\n",
    "<a href=#five>5. Exploratory Data Analysis (EDA)</a>\n",
    "\n",
    "<a href=#six>6. Model Building and Evaluation</a>\n",
    "\n",
    "<a href=#seven>7. Streamlit </a>\n",
    "\n",
    "<a href=#eight>8. Conclusion and Future Work</a>\n",
    "\n",
    "<a href=#nine>9. Team Members</a>"
   ]
  },
  {
   "cell_type": "markdown",
   "metadata": {},
   "source": [
    "---\n",
    " <a id=\"BC\"></a>\n",
    "## **Background Context**\n",
    "<a href=#cont>Back to Table of Contents</a>\n",
    "\n",
    "* **Project Overview:**\n",
    "\n",
    "  This project focuses on building a hybrid anime recommendation system by combining collaborative and content-based filtering techniques.\n",
    "  Leveraging     an anime dataset from myanimelist.net, the system will predict user preferences and recommend relevant anime titles.  A key aspect of    this project,     as it's framed as unsupervised, will involve exploring unsupervised learning techniques for aspects like user or item clustering,\n",
    "  which can enhance     the recommendation process.  This mimics how platforms like Netflix and others provide tailored recommendations.\n",
    "\n",
    "* **Purpose:** \n",
    "    * Personalized Recommendations: To provide users with personalized anime recommendations based on their viewing history and preferences.\n",
    "    * Content Discovery: To facilitate the discovery of new and relevant anime titles that users might not otherwise find.\n",
    "    * Improved User Experience: To enhance the user experience on anime platforms by streamlining the content selection process.\n",
    "    * Unsupervised Learning Exploration: To investigate the application of unsupervised learning methods (e.g., clustering, dimensionality reduction)\n",
    "      for improving recommendation system performance.\n",
    "    * Data Analysis: To analyze user behavior and preferences related to anime consumption, potentially revealing insights through unsupervised methods.\n",
    "\n",
    "\n",
    "* **Details:**\n",
    "\n",
    "  * Dataset: The project will use a dataset from myanimelist.net containing user ratings for a large collection of anime titles. Data preprocessing and     feature engineering will be crucial, especially considering the potential for unsupervised learning.\n",
    "    \n",
    "  * Collaborative Filtering: This approach will identify users with similar viewing habits. Unsupervised learning can be used here, for instance, to\n",
    "    cluster users based on their rating patterns before applying collaborative filtering.\n",
    "      \n",
    "  * Content-Based Filtering: This approach will analyze anime characteristics (genre, themes, studio, synopsis). Unsupervised learning can be applied       to extract relevant features or group similar anime titles.\n",
    " \n",
    "    \n",
    "  * Hybrid Approach: The project will combine collaborative and content-based filtering, possibly using unsupervised learning results to inform the\n",
    "    hybrid strategy.\n",
    " \n",
    "    \n",
    "   * Unsupervised Learning Component: This is the core of the \"unsupervised\" aspect. Techniques like K-Means clustering for user segmentation, or\n",
    "    PCA/t-  SNE for dimensionality reduction of anime features, will be explored.\n",
    " \n",
    "     \n",
    "   * Evaluation Metrics: Performance will be evaluated using metrics like precision, recall, F1-score, RMSE, and potentially metrics specific to\n",
    "     evaluating the quality of clusters or reduced dimensions.\n",
    " \n",
    "     \n",
    "   * Technology Stack: Python with libraries like Pandas, NumPy, Scikit-learn, Surprise, and potentially others for visualization or specific\n",
    "      unsupervised learning algorithms.\n",
    "\n",
    "    **1. Objective:**\n",
    "\n",
    "    * Data Preprocessing & Feature Engineering: Clean the data, handle missing values, and engineer features suitable for both supervised and\n",
    "     unsupervised learning.\n",
    "\n",
    "    * Unsupervised Learning Implementation: Apply unsupervised learning techniques (clustering, dimensionality reduction) to user ratings and/or anime        features.\n",
    " \n",
    "    * Model Development: Implement collaborative, content-based, and hybrid recommendation models, integrating results from unsupervised learning.\n",
    " \n",
    "    * Performance Evaluation: Evaluate the performance of the models, focusing on the impact of the unsupervised learning component.\n",
    " \n",
    "    * Optimization: Fine-tune models and unsupervised learning parameters to maximize recommendation accuracy.\n",
    " \n",
    "    * Recommendation Generation: Develop a system to generate personalized recommendations.\n",
    " \n",
    "    * Documentation & Reporting: Document the project thoroughly, including the rationale behind unsupervised learning choices, implementation details,       evaluation results, and insights.\n",
    "\n",
    "    **2. Deliverables:**\n",
    "\n",
    "    * Preprocessed Dataset: Cleaned and prepared dataset, including any features created specifically for unsupervised learning.\n",
    "    * Unsupervised Learning Models: Code implementing the chosen unsupervised learning techniques (e.g., clustering, dimensionality reduction).\n",
    "    * Recommendation Models: Code implementing the collaborative, content-based, and hybrid recommendation models.\n",
    "    * Evaluation Report: A report detailing the evaluation metrics and a comparative analysis of the different approaches, emphasizing the contribution       of unsupervised learning.\n",
    "    * Recommendation System: A working system (script, API, or simple application) to generate recommendations.\n",
    "    * Code Repository: A well-organized and documented repository containing all code, data, and reports.\n",
    "\n",
    "\n",
    "    **3. Expected Outcomes:**\n",
    "\n",
    "    * Functional Recommendation System: A working anime recommendation system that provides personalized recommendations.\n",
    "    * Demonstrated Use of Unsupervised Learning: A clear demonstration of how unsupervised learning techniques can be applied to enhance a\n",
    "      recommendation system.\n",
    "    * Performance Analysis: A thorough analysis of the impact of unsupervised learning on recommendation performance.\n",
    "    * Insights: Potential insights gained from the data through unsupervised learning, such as user segments or anime feature relationships.\n",
    "    * Documented Project: A well-documented and reproducible project."
   ]
  },
  {
   "cell_type": "markdown",
   "metadata": {},
   "source": [
    "---\n",
    "<a href=#two></a>\n",
    "## **Data Collection and Description**\n",
    "<a href=#cont>Back to Table of Contents</a>\n",
    "\n",
    "The dataset is comprised of \n",
    "\n",
    "**Dataset Features:**\n",
    "\n",
    "**Description**    \n",
    "\n",
    "**Content**       \n",
    "\n",
    "\n"
   ]
  },
  {
   "cell_type": "markdown",
   "metadata": {},
   "source": [
    "* **Installing and Importing Packages**"
   ]
  },
  {
   "cell_type": "code",
   "execution_count": 1,
   "metadata": {},
   "outputs": [],
   "source": [
    "# Uncomment the next line to install required packages\n",
    "#!pip install pandas matplotlib seaborn numpy scikit-learn nltk collections2 wordcloud textblob joblib mlflow ipython\n",
    "#!pip install scikit-surprise\n",
    "#!pip install lightfm"
   ]
  },
  {
   "cell_type": "code",
   "execution_count": 2,
   "metadata": {},
   "outputs": [
    {
     "name": "stderr",
     "output_type": "stream",
     "text": [
      "c:\\Users\\kgerr\\anaconda3\\Lib\\site-packages\\lightfm\\_lightfm_fast.py:9: UserWarning: LightFM was compiled without OpenMP support. Only a single thread will be used.\n",
      "  warnings.warn(\n"
     ]
    }
   ],
   "source": [
    "\n",
    "import pandas as pd    # For data manipulation and analysis.\n",
    "import matplotlib.pyplot as plt # For creating static, interactive, and animated visualizations\n",
    "import seaborn as sns  # Built on top of Matplotlib, Seaborn simplifies the creation of attractive and informative statistical graphics.\n",
    "import numpy as np  # For numerical computations.\n",
    "import re  # For regular expressions, used in text data preprocessing to search, match, and manipulate strings.\n",
    "import string # Provides constants like string.punctuation and utility functions for working with strings.\n",
    "from sklearn.feature_extraction.text import TfidfVectorizer # Converts text data into numerical feature vectors using the Term Frequency-Inverse Document Frequency (TF-IDF) technique.\n",
    "from sklearn.model_selection import train_test_split # Splits the dataset into training and testing subsets.\n",
    "from sklearn.linear_model import LogisticRegression # Implements Logistic Regression, a commonly used supervised learning algorithm for classification tasks.\n",
    "from sklearn.naive_bayes import MultinomialNB # Implements the Multinomial Naive Bayes algorithm, often used for text classification.\n",
    "from sklearn.svm import SVC # Implements Support Vector Classifier (SVC), a powerful supervised learning model for classification.\n",
    "from sklearn.metrics import accuracy_score, precision_score, recall_score, f1_score, confusion_matrix, mean_squared_error # Provides functions to evaluate the performance of machine learning models\n",
    "from sklearn.model_selection import cross_val_score # Computes cross-validated scores for assessing model performance.\n",
    "import joblib # Used for saving and loading machine learning models or large datasets efficiently.\n",
    "from nltk.corpus import stopwords\n",
    "from nltk.tokenize import word_tokenize\n",
    "from nltk.stem import WordNetLemmatizer\n",
    "from collections import Counter\n",
    "from wordcloud import WordCloud\n",
    "from textblob import TextBlob\n",
    "import joblib\n",
    "import mlflow\n",
    "import mlflow.pyfunc\n",
    "from IPython.display import display\n",
    "import warnings\n",
    "\n",
    "# Model for training and cross validation\n",
    "from surprise import Dataset, Reader, SVD\n",
    "from surprise.model_selection import GridSearchCV\n",
    "from lightfm import LightFM\n",
    "from lightfm.data import Dataset\n",
    "from lightfm.evaluation import precision_at_k, auc_score\n",
    "\n",
    "# Hide all future warnings\n",
    "warnings.simplefilter(action='ignore', category=FutureWarning)"
   ]
  },
  {
   "cell_type": "markdown",
   "metadata": {},
   "source": [
    "---\n",
    "<a href=#three></a>\n",
    "## **Loading Data**\n",
    "<a href=#cont>Back to Table of Contents</a>\n",
    "\n",
    "* **Purpose:** Load the data into the notebook for manipulation and analysis.\n",
    "* **Details:** Show the code used to load the data and display the first few rows to give a sense of what the raw data looks like.\n",
    "---"
   ]
  },
  {
   "cell_type": "code",
   "execution_count": 3,
   "metadata": {},
   "outputs": [
    {
     "name": "stdout",
     "output_type": "stream",
     "text": [
      "         user_id  anime_id  rating\n",
      "2204109    27973      9989       8\n",
      "3886889    50603      6007       7\n",
      "2142310    27254      2109       7\n",
      "4131794    53284        72       9\n",
      "1310502    17373      8074       6\n",
      "   user_id  anime_id\n",
      "0    40763     21405\n",
      "1    68791     10504\n",
      "2    40487      1281\n",
      "3    55290       165\n",
      "4    72323     11111\n"
     ]
    }
   ],
   "source": [
    "# Load the datasets\n",
    "df_train = pd.read_csv('train.zip').sample(n=1000000, random_state=42) # Limiting rows to reduce training times\n",
    "df = pd.read_csv('anime.csv')\n",
    "df_test = pd.read_csv('test.csv')\n",
    "df_submit = pd.read_csv('submission.csv')\n",
    "\n",
    "# Display the first few rows of the train dataset\n",
    "print(df_train.head())\n",
    "\n",
    "# Display the first few rows of the test dataset\n",
    "print(df_test.head())"
   ]
  },
  {
   "cell_type": "markdown",
   "metadata": {},
   "source": [
    "---\n",
    "<a href=#five></a>\n",
    "## **Exploratory Data Analysis (EDA)**\n",
    "<a href=#cont>Back to Table of Contents</a>\n",
    "\n",
    "* **Purpose:** Explore and visualize the data to uncover patterns, trends, and relationships.\n",
    "* **Details:** Use statistics and visualizations to explore the data. This may include histograms, box plots, scatter plots, and correlation matrices. Discuss any significant findings.\n",
    "---\n"
   ]
  },
  {
   "cell_type": "code",
   "execution_count": 4,
   "metadata": {},
   "outputs": [
    {
     "data": {
      "text/plain": [
       "1000000"
      ]
     },
     "execution_count": 4,
     "metadata": {},
     "output_type": "execute_result"
    }
   ],
   "source": [
    "# Checking number of anime titles\n",
    "df_train.shape[0]"
   ]
  },
  {
   "cell_type": "code",
   "execution_count": 5,
   "metadata": {},
   "outputs": [
    {
     "name": "stdout",
     "output_type": "stream",
     "text": [
      "Average rating in dataset: 7.808873\n"
     ]
    },
    {
     "data": {
      "image/png": "[encoded data removed]",
      "text/plain": [
       "<Figure size 511.111x500 with 1 Axes>"
      ]
     },
     "metadata": {},
     "output_type": "display_data"
    }
   ],
   "source": [
    "# Plotting the distribution of ratings\n",
    "with sns.axes_style('white'):\n",
    "    g = sns.catplot(data=df_train, x='rating', kind='count')\n",
    "    g.set_ylabels('Total number of Anime titles')\n",
    "    g.ax.yaxis.set_major_formatter('{x:,.0f}')\n",
    "print(f\"Average rating in dataset: {np.mean(df_train['rating'])}\")"
   ]
  },
  {
   "cell_type": "markdown",
   "metadata": {},
   "source": [
    "- The bar plot shows a mostly positive distribution of ratings with an average rating of 7.8, ratings are also between 1-10."
   ]
  },
  {
   "cell_type": "markdown",
   "metadata": {},
   "source": [
    "---\n",
    "<a href=#nine></a>\n",
    "## **Model Building and Evaluation**\n",
    "<a href=#cont>Back to Table of Contents</a>\n",
    "\n",
    "* **Purpose:** Summarize the findings and discuss future directions.\n",
    "* **Details:** Conclude with a summary of the results, insights gained, limitations of the study, and suggestions for future projects or improvements in methodology or data collection.\n",
    "---\n"
   ]
  },
  {
   "cell_type": "markdown",
   "metadata": {},
   "source": [
    "# \n",
    "**1. Text Preprocessing:**\n",
    "\n",
    "* Replace the __Content__ column with the __Cleaned_Content__ column in the train_df.\n",
    "* Drop the __Category__ column in the test_df"
   ]
  },
  {
   "cell_type": "code",
   "execution_count": null,
   "metadata": {},
   "outputs": [
    {
     "ename": "AttributeError",
     "evalue": "type object 'Dataset' has no attribute 'load_from_df'",
     "output_type": "error",
     "traceback": [
      "\u001b[1;31m---------------------------------------------------------------------------\u001b[0m",
      "\u001b[1;31mAttributeError\u001b[0m                            Traceback (most recent call last)",
      "Cell \u001b[1;32mIn[6], line 3\u001b[0m\n\u001b[0;32m      1\u001b[0m \u001b[38;5;66;03m# Scaling the data\u001b[39;00m\n\u001b[0;32m      2\u001b[0m reader \u001b[38;5;241m=\u001b[39m Reader(rating_scale\u001b[38;5;241m=\u001b[39m(\u001b[38;5;241m1\u001b[39m, \u001b[38;5;241m10\u001b[39m))\n\u001b[1;32m----> 3\u001b[0m data \u001b[38;5;241m=\u001b[39m Dataset\u001b[38;5;241m.\u001b[39mload_from_df(df_train[[\u001b[38;5;124m'\u001b[39m\u001b[38;5;124muser_id\u001b[39m\u001b[38;5;124m'\u001b[39m, \u001b[38;5;124m'\u001b[39m\u001b[38;5;124manime_id\u001b[39m\u001b[38;5;124m'\u001b[39m, \u001b[38;5;124m'\u001b[39m\u001b[38;5;124mrating\u001b[39m\u001b[38;5;124m'\u001b[39m]], reader)\n\u001b[0;32m      5\u001b[0m \u001b[38;5;66;03m# Define parameter grids\u001b[39;00m\n\u001b[0;32m      6\u001b[0m param_grid_svd \u001b[38;5;241m=\u001b[39m {\n\u001b[0;32m      7\u001b[0m     \u001b[38;5;124m'\u001b[39m\u001b[38;5;124mn_factors\u001b[39m\u001b[38;5;124m'\u001b[39m: [\u001b[38;5;241m20\u001b[39m, \u001b[38;5;241m50\u001b[39m],\n\u001b[0;32m      8\u001b[0m     \u001b[38;5;124m'\u001b[39m\u001b[38;5;124mn_epochs\u001b[39m\u001b[38;5;124m'\u001b[39m: [\u001b[38;5;241m10\u001b[39m, \u001b[38;5;241m20\u001b[39m],\n\u001b[0;32m      9\u001b[0m     \u001b[38;5;124m'\u001b[39m\u001b[38;5;124mlr_all\u001b[39m\u001b[38;5;124m'\u001b[39m: [\u001b[38;5;241m0.002\u001b[39m,\u001b[38;5;241m0.01\u001b[39m],\n\u001b[0;32m     10\u001b[0m     \u001b[38;5;124m'\u001b[39m\u001b[38;5;124mreg_all\u001b[39m\u001b[38;5;124m'\u001b[39m: [\u001b[38;5;241m0.02\u001b[39m, \u001b[38;5;241m0.1\u001b[39m]\n\u001b[0;32m     11\u001b[0m }\n",
      "\u001b[1;31mAttributeError\u001b[0m: type object 'Dataset' has no attribute 'load_from_df'"
     ]
    }
   ],
   "source": [
    "# Scaling the data\n",
    "reader = Reader(rating_scale=(1, 10))\n",
    "data = Dataset.load_from_df(df_train[['user_id', 'anime_id', 'rating']], reader)\n",
    "\n",
    "# Define parameter grids\n",
    "param_grid_svd = {\n",
    "    'n_factors': [20, 50],\n",
    "    'n_epochs': [10, 20],\n",
    "    'lr_all': [0.002,0.01],\n",
    "    'reg_all': [0.02, 0.1]\n",
    "}\n",
    "\n",
    "# Initializing the model and setting the hyperparameters on cross-validation\n",
    "gs_svd = GridSearchCV(SVD, param_grid_svd, measures=['rmse'], cv=3, n_jobs=-1)\n",
    "gs_svd.fit(data)\n",
    "\n",
    "# Getting RMSE score\n",
    "print(f\"RMSE score: {gs_svd.best_score['rmse']}\")"
   ]
  },
  {
   "cell_type": "markdown",
   "metadata": {},
   "source": [
    "- An RMSE of ~1.247 is not bad but that means the ratings on average would be in error of ~1 when predicting."
   ]
  },
  {
   "cell_type": "code",
   "execution_count": null,
   "metadata": {},
   "outputs": [
    {
     "ename": "NameError",
     "evalue": "name 'df_train' is not defined",
     "output_type": "error",
     "traceback": [
      "\u001b[1;31m---------------------------------------------------------------------------\u001b[0m",
      "\u001b[1;31mNameError\u001b[0m                                 Traceback (most recent call last)",
      "Cell \u001b[1;32mIn[5], line 2\u001b[0m\n\u001b[0;32m      1\u001b[0m \u001b[38;5;66;03m# Splitting the training dataset into train and test\u001b[39;00m\n\u001b[1;32m----> 2\u001b[0m train_data \u001b[38;5;241m=\u001b[39m df_train\u001b[38;5;241m.\u001b[39msample(frac\u001b[38;5;241m=\u001b[39m\u001b[38;5;241m0.8\u001b[39m, random_state\u001b[38;5;241m=\u001b[39m\u001b[38;5;241m42\u001b[39m)\n\u001b[0;32m      3\u001b[0m test_data \u001b[38;5;241m=\u001b[39m df_train\u001b[38;5;241m.\u001b[39mdrop(train_data\u001b[38;5;241m.\u001b[39mindex)\n\u001b[0;32m      5\u001b[0m \u001b[38;5;66;03m# Create model dataset\u001b[39;00m\n",
      "\u001b[1;31mNameError\u001b[0m: name 'df_train' is not defined"
     ]
    }
   ],
   "source": [
    "# Splitting the training dataset into train and test\n",
    "train_data = df_train.sample(frac=0.8, random_state=42)\n",
    "test_data = df_train.drop(train_data.index)\n",
    "\n",
    "# Create model dataset\n",
    "dataset = Dataset()\n",
    "dataset.fit(df_train['user_id'].unique(), df_train['anime_id'].unique())\n",
    "\n",
    "# Building interactions\n",
    "(train_interactions, train_weights) = dataset.build_interactions([row['user_id'], row['anime_id']] for index, row in train_data.iterrows())\n",
    "(test_interactions, test_weights) = dataset.build_interactions([row['user_id'], row['anime_id']] for index, row in test_data.iterrows())\n",
    "\n",
    "# Checking dimensions\n",
    "print(f\"Train interactions shape: {train_interactions.shape}\")\n",
    "print(f\"Test interactions shape: {test_interactions.shape}\")"
   ]
  },
  {
   "cell_type": "code",
   "execution_count": null,
   "metadata": {},
   "outputs": [
    {
     "ename": "NameError",
     "evalue": "name 'train_interactions' is not defined",
     "output_type": "error",
     "traceback": [
      "\u001b[1;31m---------------------------------------------------------------------------\u001b[0m",
      "\u001b[1;31mNameError\u001b[0m                                 Traceback (most recent call last)",
      "Cell \u001b[1;32mIn[4], line 5\u001b[0m\n\u001b[0;32m      2\u001b[0m model \u001b[38;5;241m=\u001b[39m LightFM(loss\u001b[38;5;241m=\u001b[39m\u001b[38;5;124m'\u001b[39m\u001b[38;5;124mwarp\u001b[39m\u001b[38;5;124m'\u001b[39m)\n\u001b[0;32m      4\u001b[0m \u001b[38;5;66;03m# Train and fit the model\u001b[39;00m\n\u001b[1;32m----> 5\u001b[0m model\u001b[38;5;241m.\u001b[39mfit(train_interactions, epochs\u001b[38;5;241m=\u001b[39m\u001b[38;5;241m10\u001b[39m, num_threads\u001b[38;5;241m=\u001b[39m\u001b[38;5;241m4\u001b[39m)\n",
      "\u001b[1;31mNameError\u001b[0m: name 'train_interactions' is not defined"
     ]
    }
   ],
   "source": [
    "# Initialize the model\n",
    "model = LightFM(loss='warp')\n",
    "\n",
    "# Train and fit the model\n",
    "model.fit(train_interactions, epochs=10, num_threads=4)\n",
    "\n",
    "# Get RMSE score\n",
    "#lfm_rmse = np.sqrt(mean_squared_error(test_interactions, model.predict(test_interactions)))\n",
    "#print(f\"Lightfm RMSE: {lfm_rmse}\")"
   ]
  },
  {
   "cell_type": "markdown",
   "metadata": {},
   "source": [
    "# Deploy the Model\n",
    "\n",
    "## a. Set Up the Environment\n",
    "Ensure that the deployment environment has the necessary dependencies and configurations. This includes:\n",
    "\n",
    "- Python environment (e.g., virtualenv or conda)\n",
    "- Required libraries (e.g., scikit-learn, joblib, pandas, numpy)\n",
    "\n",
    "You can create a `requirements.txt` file to list all the dependencies:"
   ]
  },
  {
   "cell_type": "code",
   "execution_count": null,
   "metadata": {},
   "outputs": [],
   "source": [
    "# Load the model and vectorizer.\n"
   ]
  },
  {
   "cell_type": "markdown",
   "metadata": {},
   "source": [
    "### MLFLOW"
   ]
  },
  {
   "cell_type": "markdown",
   "metadata": {},
   "source": [
    "---\n",
    "<a href=#nine></a>\n",
    "## **Conclusion and Future Work**\n",
    "<a href=#cont>Back to Table of Contents</a>\n",
    "\n",
    "* **Purpose:** Summarize the findings and discuss future directions.\n",
    "* **Details:** Conclude with a summary of the results, insights gained, limitations of the study, and suggestions for future projects or improvements in methodology or data collection.\n",
    "---"
   ]
  },
  {
   "cell_type": "code",
   "execution_count": null,
   "metadata": {},
   "outputs": [],
   "source": [
    "#Please use code cells to code in and do not forget to comment your code."
   ]
  },
  {
   "cell_type": "markdown",
   "metadata": {},
   "source": [
    "## Additional Sections to Consider\n",
    "\n",
    "* ### Appendix: \n",
    "For any additional code, detailed tables, or extended data visualizations that are supplementary to the main content.\n",
    "\n",
    "* ### Collaborators: \n",
    "  - Emmanuel Majola\n",
    "  - Selogile Tlhale\n",
    "  - Josia Sithole\n",
    "  - Kyle Ebrahim\n",
    "  - Jerry Maleka\n",
    "  - Nhlokomo Mhlophe\n"
   ]
  }
 ],
 "metadata": {
  "kernelspec": {
   "display_name": "base",
   "language": "python",
   "name": "python3"
  },
  "language_info": {
   "codemirror_mode": {
    "name": "ipython",
    "version": 3
   },
   "file_extension": ".py",
   "mimetype": "text/x-python",
   "name": "python",
   "nbconvert_exporter": "python",
   "pygments_lexer": "ipython3",
   "version": "3.11.5"
  }
 },
 "nbformat": 4,
 "nbformat_minor": 4
}
